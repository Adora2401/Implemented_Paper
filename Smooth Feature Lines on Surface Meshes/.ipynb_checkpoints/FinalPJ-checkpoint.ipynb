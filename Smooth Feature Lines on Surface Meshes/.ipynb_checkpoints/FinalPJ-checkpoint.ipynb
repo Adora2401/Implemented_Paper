{
 "cells": [
  {
   "cell_type": "code",
   "execution_count": 13,
   "metadata": {
    "scrolled": true
   },
   "outputs": [],
   "source": [
    "import numpy as np\n",
    "import igl\n",
    "import meshplot as mp\n",
    "import math\n",
    "import scipy.sparse as sp\n",
    "from numpy import matlib as mb\n",
    "from math import sqrt"
   ]
  },
  {
   "cell_type": "markdown",
   "metadata": {},
   "source": [
    "# Smooth Feature Lines on Surface Meshes"
   ]
  },
  {
   "cell_type": "markdown",
   "metadata": {},
   "source": [
    "# Load Data"
   ]
  },
  {
   "cell_type": "code",
   "execution_count": 14,
   "metadata": {},
   "outputs": [],
   "source": [
    "v, f = igl.read_triangle_mesh('./data/hand.off')\n",
    "\n",
    "kdmin, kdmax, kmin, kmax = igl.principal_curvature(v,f)  \n",
    "kdmax /= np.linalg.norm(kdmax)    #principal curvatures\n",
    "kdmin /= np.linalg.norm(kdmin)\n",
    "# print(kdmin.shape,kmin.shape)"
   ]
  },
  {
   "cell_type": "markdown",
   "metadata": {},
   "source": [
    "# Detect Regular Triangles and the rest are singular triangles\n",
    "\n",
    "Fixing the sign of\u0001κi(p) determines the sign for each of\n",
    "\u0001κi(q1),...,\u0001κi(qn) by the requirement that \u0001\u0001κi(p),\u0001κi(qi)\u0003 > 0.\n",
    "Due to the regularity assumption, if T = (p,qi,qj) is a trian\u0002gle, then \u0001\u0001κi(qi),\u0001κi(qj)\u0003 > 0 as well. We have shown:"
   ]
  },
  {
   "cell_type": "code",
   "execution_count": 15,
   "metadata": {},
   "outputs": [],
   "source": [
    "def mark_regular_tri(f,kdmax,kdmin):\n",
    "    singular = []\n",
    "    regular = []\n",
    "    color = []\n",
    "    for indfi, fi in enumerate(f):\n",
    "        for i in range(1,3):\n",
    "            if np.dot(kdmax[fi[0]],kdmax[fi[i]]) <= 0: #Lemma 1\n",
    "                kdmax[fi[i]] = - kdmax[fi[i]]\n",
    "            if np.dot(kdmin[fi[0]],kdmin[fi[i]]) <= 0:\n",
    "                kdmin[fi[i]] = - kdmin[fi[i]]\n",
    "        #We have made the inner product of kdmax[fi[0]] and kdmax[fi[i]] positive\n",
    "        if np.dot(kdmax[fi[1]],kdmax[fi[2]]) > 0 and np.dot(kdmin[fi[1]],kdmin[fi[2]]) >0:\n",
    "            regular.append(indfi)\n",
    "            color.append([1,1,1]) #white\n",
    "        else:\n",
    "            singular.append(indfi)\n",
    "            color.append([0,0,0]) #black\n",
    "    return np.array(regular), np.array(singular), np.array(color)\n",
    "\n",
    "regular, singular, color = mark_regular_tri(f,kdmax,kdmin)"
   ]
  },
  {
   "cell_type": "markdown",
   "metadata": {},
   "source": [
    "# Compute Extremalities"
   ]
  },
  {
   "cell_type": "code",
   "execution_count": 16,
   "metadata": {},
   "outputs": [],
   "source": [
    "def getAdjacentFaces(v,f):\n",
    "    VF, NI = igl.vertex_triangle_adjacency(f, v.shape[0])\n",
    "    VFi = []\n",
    "    for i in range(NI.shape[0] - 1):\n",
    "        VFii = []\n",
    "        jj = NI[i + 1] - NI[i]\n",
    "        for j in range(jj):\n",
    "            VFii.append(VF[NI[i] + j]) #face f is the jth face (in no particular order) incident on vertex i.\n",
    "        VFi.append(VFii)\n",
    "    return VFi"
   ]
  },
  {
   "cell_type": "code",
   "execution_count": 17,
   "metadata": {},
   "outputs": [],
   "source": [
    "def extremalities(v, f, k, kd):\n",
    "    EX = np.zeros((v.shape[0],1))\n",
    "    A = igl.doublearea(v,f)\n",
    "    G = igl.grad(v, f)\n",
    "    grad_k = G * k\n",
    "    neighbour = getAdjacentFaces(v,f) \n",
    "    for indvi, vi in enumerate(v):\n",
    "        area, ex = 0, 0\n",
    "        # formula (4)\n",
    "        for indvfi, vfi in enumerate(neighbour[indvi]):\n",
    "            area += A[vfi] \n",
    "            g = np.array([grad_k[vfi], grad_k[f.shape[0] + vfi], grad_k[2 * f.shape[0] + vfi]])\n",
    "            ex += A[vfi] * np.dot(g,kd[indvi])\n",
    "        ex /= area\n",
    "        EX[indvi] = ex\n",
    "    return EX\n",
    "\n",
    "EX_max = extremalities(v, f, kmax, kdmax)\n",
    "EX_min = extremalities(v, f, kmin, kdmin)"
   ]
  },
  {
   "cell_type": "markdown",
   "metadata": {},
   "source": [
    "# Extract Feature Line"
   ]
  },
  {
   "cell_type": "markdown",
   "metadata": {},
   "source": [
    "## Extract Feature Lines for regular triangles"
   ]
  },
  {
   "cell_type": "code",
   "execution_count": 18,
   "metadata": {},
   "outputs": [],
   "source": [
    "def extract_regular_lines(v, f, kmax, kmin, KD, EX, regular, sign):\n",
    "    fr = np.array([f[index] for index in regular])\n",
    "    marked_edges = []\n",
    "    zero_point_v = []\n",
    "    zero_point_k = []\n",
    "    zero_edges_ind = [[],[]]\n",
    "    zero_edges = [[],[]]\n",
    "    # for regular triangles\n",
    "    for indfri, fri in enumerate(fr):\n",
    "        kd = np.array([KD[index] for index in fri]) # each vertex's curvature direction on the current triangle\n",
    "        ex = np.array([EX[index] for index in fri]) # each vertex's extremalities on the current triangle\n",
    "        # flip signs\n",
    "        for i in range(1,3):\n",
    "            if np.dot(kd[0],kd[i]) < 0:\n",
    "                kd[i] = - kd[i]\n",
    "                ex[i] = - ex[i]\n",
    "\n",
    "        if ex[ex.argmax()] <= 0.0 or ex[ex.argmin()] >= 0.0:\n",
    "            continue # no zero points\n",
    "        kd_sum = kd.sum(axis=0)\n",
    "        vv = np.array([v[index] for index in fri]) # the vertex on this triangle\n",
    "        G = igl.grad(vv, np.array([[0,1,2]]))\n",
    "        gex = G * ex # trangle based gradient\n",
    "        \n",
    "        # check equation (5)\n",
    "        if sign * np.dot(np.array([kd_sum]),gex) >= 0: \n",
    "            continue\n",
    "            \n",
    "        # check equation (6)\n",
    "        kmax_ = np.array([kmax[index] for index in fri])\n",
    "        kmin_ = np.array([kmin[index] for index in fri])\n",
    "        if sign * (abs(kmax_.sum(axis=0)) - abs(kmin_.sum(axis=0))) <= 0:\n",
    "            continue\n",
    "            \n",
    "        count = 0\n",
    "        for i in range(3):\n",
    "            j = (i + 1) % 3\n",
    "            if ex[i] * ex[j] <= 0: # has sign change: should have a zero point in the middle\n",
    "                # add mid point\n",
    "                a = abs(ex[i])\n",
    "                b = abs(ex[j])\n",
    "                mid = (b * v[fri[i]] + a * v[fri[j]]) / (a + b)\n",
    "                \n",
    "                if [mid[0],mid[1],mid[2]] not in zero_point_v:\n",
    "                    zero_point_v.append([mid[0],mid[1],mid[2]])\n",
    "                    ind = len(zero_point_v) -1\n",
    "                    if sign == 1:\n",
    "                        zero_point_k.append((b * kmax[fri[i]] + a * kmax[fri[j]]) / (a + b))\n",
    "                    else:\n",
    "                        zero_point_k.append((b * kmin[fri[i]] + a * kmin[fri[j]]) / (a + b))\n",
    "                else:\n",
    "                    ind = zero_point_v.index([mid[0],mid[1],mid[2]])\n",
    "                zero_edges_ind[count].append(ind)\n",
    "                zero_edges[count].append(mid)\n",
    "                # mark edge i, j\n",
    "                marked_edges.append([fri[i],fri[j]])\n",
    "                count = (count + 1)%2\n",
    "    return marked_edges, zero_point_v, zero_point_k, zero_edges_ind, zero_edges"
   ]
  },
  {
   "cell_type": "markdown",
   "metadata": {},
   "source": [
    "## Extract Feature Lines for singular triangles"
   ]
  },
  {
   "cell_type": "code",
   "execution_count": 19,
   "metadata": {},
   "outputs": [],
   "source": [
    "def extract_singular_line(v, f, kmax, kmin, KD, EX, regular, singular, sign, threhold):\n",
    "    marked_edges, zero_point_v, zero_point_k, zero_edges_ind, zero_edges = extract_regular_lines(v, f, kmax, kmin, KD, EX, regular, sign)      \n",
    "    # for singular triangles\n",
    "#     regular case: There are 2 marked edges. Connect the corresponding marked points inside T. \n",
    "#     trisector case: There are 3 marked edges. Add a point to the barycenter of T and connect it with the three edge points.\n",
    "#     start/end case: There is 1 marked edge. Do nothing.\n",
    "    for indfi, fi in enumerate(singular):\n",
    "        face = f[fi]\n",
    "        marked = []\n",
    "        for es in range(3): # edge start 0-1, 1-2, 2-0\n",
    "            ee = (es + 1) % 3 # edge end\n",
    "            # see whether there are marked edges\n",
    "            if [face[es],face[ee]] in marked_edges or [face[ee],face[es]] in marked_edges:\n",
    "                marked.append([face[es],face[ee]])\n",
    "        if len(marked) == 1:\n",
    "            continue \n",
    "        if len(marked) == 2:\n",
    "#             print(\"exist 2\")\n",
    "            for k in range(2):\n",
    "                i = marked[k][0]\n",
    "                j = marked[k][1]\n",
    "                a = abs(EX[i])\n",
    "                b = abs(EX[j])\n",
    "                mid = (b * v[i] + a * v[j]) / (a + b)\n",
    "                if [mid[0],mid[1],mid[2]] not in zero_point_v:\n",
    "                    zero_point_v.append([mid[0],mid[1],mid[2]])\n",
    "                    ind = len(zero_point_v) -1\n",
    "                    if sign == 1:\n",
    "                        zero_point_k.append((b * kmax[fi[i]] + a * kmax[fi[j]]) / (a + b))\n",
    "                    else:\n",
    "                        zero_point_k.append((b * kmin[fi[i]] + a * kmin[fi[j]]) / (a + b))\n",
    "                else:\n",
    "                    ind = zero_point_v.index([mid[0],mid[1],mid[2]])\n",
    "                zero_edges_ind[k].append(ind) \n",
    "                zero_edges[k].append(mid)\n",
    "                \n",
    "        if len(marked) == 3:\n",
    "            print(\"exist 3\")\n",
    "            bc = (v[face][0] + v[face][1] + v[face][2])/3 # barycenter\n",
    "            \n",
    "            zero_point_v.append(bc)\n",
    "            for k in range(3):\n",
    "                if sign == 1:\n",
    "                    zero_point_k.append(kmax[face[k]])\n",
    "                else:\n",
    "                    zero_point_k.append(kmin[face[k]])\n",
    "                zero_edges_ind[0].append(indfi)\n",
    "                zero_edges[0].append(bc)\n",
    "            for k in range(3):\n",
    "                i = marked[k][0]\n",
    "#                 print(\"i:\",i)\n",
    "                j = marked[k][1]\n",
    "                a = abs(EX[i])\n",
    "                b = abs(EX[j])\n",
    "                mid = (b * v[i] + a * v[j]) / (a + b)\n",
    "                if [mid[0],mid[1],mid[2]] not in zero_point_v:\n",
    "                    zero_point_v.append([mid[0],mid[1],mid[2]])\n",
    "                    ind = len(zero_point_v) -1\n",
    "                    if sign == 1:\n",
    "                        zero_point_k.append((b * kmax[fi[i]] + a * kmax[fi[j]]) / (a + b))\n",
    "                    else:\n",
    "                        zero_point_k.append((b * kmin[fi[i]] + a * kmin[fi[j]]) / (a + b))\n",
    "                else:\n",
    "                    ind = zero_point_v.index([mid[0],mid[1],mid[2]])\n",
    "                zero_edges_ind[1].append(ind)\n",
    "                zero_edges[1].append(mid)\n",
    "    return marked_edges, zero_point_v, zero_point_k, zero_edges_ind, zero_edges\n"
   ]
  },
  {
   "cell_type": "markdown",
   "metadata": {},
   "source": [
    "## Remove small ridges by a threshold filter\n",
    "### Cite: https://citeseerx.ist.psu.edu/viewdoc/download?doi=10.1.1.79.7008&rep=rep1&type=pdf"
   ]
  },
  {
   "cell_type": "code",
   "execution_count": 20,
   "metadata": {},
   "outputs": [],
   "source": [
    "def remove_small_ridges(v, f, kmax, kmin, KD, EX, regular, singular, sign, threhold):\n",
    "    marked_edges, zero_point_v, zero_point_k, zero_edges_ind, zero_edges = extract_singular_line(v, f, kmax, kmin, KD, EX, regular, singular, sign, threhold)      \n",
    "    \n",
    "\n",
    "    visited = [np.zeros(len(zero_edges_ind[0])),np.zeros(len(zero_edges_ind[1]))]\n",
    "    lines = [[],[]]\n",
    "    while 0 in visited[0] or 0 in visited[1]: # there are still unvisited edges\n",
    "        temp_line = [[],[]]\n",
    "        itg_k = 0 # the trapezoid approximation of the integral\n",
    "        # pick a point to start\n",
    "        zv_count = 0\n",
    "        if 0 in visited[0]:\n",
    "            ind_cur = np.where(visited[0]==0)[0][0]\n",
    "            which_end = 0\n",
    "        else:\n",
    "            ind_cur = np.where(visited[1]==0)[0][0]\n",
    "            which_end = 1\n",
    "            \n",
    "        notEnd = True\n",
    "        temp_line[0].append(zero_edges[0][ind_cur]) \n",
    "        temp_line[1].append(zero_edges[1][ind_cur])\n",
    "        visited[0][ind_cur] = 1\n",
    "        visited[1][ind_cur] = 1\n",
    "        ind_a = zero_edges_ind[0][ind_cur]\n",
    "        ind_b = zero_edges_ind[1][ind_cur]\n",
    "        itg_k += 0.5 * (zero_point_k[ind_a] + zero_point_k[ind_a])*np.linalg.norm(zero_edges[0][ind_cur] - zero_edges[1][ind_cur])\n",
    "        # trace along the line\n",
    "        while notEnd:\n",
    "            if zero_edges_ind[(which_end + 1)%2][ind_cur] in zero_edges_ind[which_end]:\n",
    "                ind_cur = zero_edges_ind[which_end].index(zero_edges_ind[(which_end + 1)%2][ind_cur])\n",
    "                temp_line[0].append(zero_edges[0][ind_cur]) \n",
    "                temp_line[1].append(zero_edges[1][ind_cur]) \n",
    "                visited[0][ind_cur] = 1\n",
    "                visited[1][ind_cur] = 1\n",
    "                ind_a = zero_edges_ind[0][ind_cur]\n",
    "                ind_b = zero_edges_ind[1][ind_cur]\n",
    "                itg_k += 0.5 * (zero_point_k[ind_a] + zero_point_k[ind_b])*np.linalg.norm(zero_edges[0][ind_cur] - zero_edges[1][ind_cur])\n",
    "            elif np.where(np.array(zero_edges_ind[(which_end + 1)%2])==zero_edges_ind[(which_end + 1)%2][ind_cur])[0].shape[0] > 1:\n",
    "                for i in np.where(np.array(zero_edges_ind[(which_end + 1)%2])==zero_edges_ind[(which_end + 1)%2][ind_cur])[0]:\n",
    "                    if i != ind_cur:\n",
    "                        ind_cur = i\n",
    "                        which_end = (which_end + 1)%2\n",
    "                        temp_line[0].append(zero_edges[0][ind_cur]) \n",
    "                        temp_line[1].append(zero_edges[1][ind_cur]) \n",
    "                        visited[0][ind_cur] = 1\n",
    "                        visited[1][ind_cur] = 1\n",
    "                        ind_a = zero_edges_ind[0][ind_cur]\n",
    "                        ind_b = zero_edges_ind[1][ind_cur]\n",
    "                        itg_k += 0.5 * (zero_point_k[ind_a] + zero_point_k[ind_b])*np.linalg.norm(zero_edges[0][ind_cur] - zero_edges[1][ind_cur])\n",
    "                        break\n",
    "\n",
    "            else:\n",
    "                notEnd = False\n",
    "        if sign * itg_k > threhold:\n",
    "            for indzv, zvi in enumerate(temp_line[0]):\n",
    "                lines[0].append(zvi)\n",
    "                lines[1].append(temp_line[1][indzv])\n",
    "\n",
    "    return np.array(lines)"
   ]
  },
  {
   "cell_type": "markdown",
   "metadata": {},
   "source": [
    "# Draw Feature Lines"
   ]
  },
  {
   "cell_type": "code",
   "execution_count": 21,
   "metadata": {},
   "outputs": [
    {
     "data": {
      "application/vnd.jupyter.widget-view+json": {
       "model_id": "9690f2a89b2c49a3be4a39026839e421",
       "version_major": 2,
       "version_minor": 0
      },
      "text/plain": [
       "Renderer(camera=PerspectiveCamera(children=(DirectionalLight(color='white', intensity=0.6, position=(0.8809995…"
      ]
     },
     "metadata": {},
     "output_type": "display_data"
    },
    {
     "data": {
      "text/plain": [
       "2"
      ]
     },
     "execution_count": 21,
     "metadata": {},
     "output_type": "execute_result"
    }
   ],
   "source": [
    "lines_max = remove_small_ridges(v,f,kmax,kmin,kdmax,EX_max,regular, singular, 1, 0.7)\n",
    "lines_min = remove_small_ridges(v,f,kmax,kmin,kdmin,EX_min,regular, singular, -1, 0.7)\n",
    "p = mp.plot(v, f, c=color)\n",
    "p.add_lines(lines_max[0], lines_max[1], shading={\"line_color\": \"red\"})\n",
    "p.add_lines(lines_min[0], lines_min[1], shading={\"line_color\": \"blue\"})\n"
   ]
  },
  {
   "cell_type": "markdown",
   "metadata": {},
   "source": [
    "# Smooth Extremalities"
   ]
  },
  {
   "cell_type": "code",
   "execution_count": 10,
   "metadata": {},
   "outputs": [],
   "source": [
    "# def getLaplacianMatrixCotangent(v, anchorsIdx):\n",
    "#     n = v.VPos.shape[0] # N x 3\n",
    "#     k = anchorsIdx.shape[0]\n",
    "#     I = []\n",
    "#     J = []\n",
    "#     V = []\n",
    "\n",
    "#     # Build sparse Laplacian Matrix coordinates and values\n",
    "#     for i in range(n):\n",
    "#         vertex = v.vertices[i]\n",
    "#         neighbors = vertex.getVertexNeighbors()\n",
    "#         indices = map(lambda x: x.ID, neighbors)\n",
    "#         weights = []\n",
    "#         z = len(indices)\n",
    "#         I = I + ([i] * (z + 1)) # repeated row\n",
    "#         J = J + indices + [i] # column indices and this row\n",
    "#         for j in range(z):\n",
    "#             neighbor = neighbors[j]\n",
    "#             edge = getEdgeInCommon(vertex, neighbor)\n",
    "#             faces = [edge.f1, edge.f2]\n",
    "#             cotangents = []\n",
    "\n",
    "#             for f in range(2):\n",
    "#                 if faces[f]:\n",
    "#                     P = v.VPos[filter(lambda v: v not in [neighbor, vertex], faces[f].getVertices())[0].ID]\n",
    "#                     (u, v) = (v.VPos[vertex.ID] - P, v.VPos[neighbor.ID] - P)\n",
    "#                     cotangents.append(np.dot(u, v) / np.sqrt(np.sum(np.square(np.cross(u, v)))))\n",
    "\n",
    "#             weights.append(-1 / len(cotangents) * np.sum(cotangents)) # cotangent weights\n",
    "            \n",
    "#     return weights\n"
   ]
  },
  {
   "cell_type": "code",
   "execution_count": 22,
   "metadata": {},
   "outputs": [],
   "source": [
    "# modified Laplacian\n",
    "def smooth_extremalities(v, f, k, kd, ex):\n",
    "    A = igl.adjacency_list(f)\n",
    "    L = igl.cotmatrix(v,f) # Constructs the cotangent stiffness matrix (discrete laplacian) for a given mesh (v, f).\n",
    "    LEx = np.zeros((v.shape[0],1))\n",
    "    for indvi, vi in enumerate(v):\n",
    "        lp = 0\n",
    "        for vn in A[indvi]:\n",
    "            temp = np.dot(kd[indvi],kd[vn])\n",
    "            if temp == 0:\n",
    "                lp += - L[indvi,vn] * ex[indvi]\n",
    "            elif temp > 0:\n",
    "                lp += L[indvi,vn] * (ex[vn] - ex[indvi]) #Wpq*(1/-1/0*eiq-eip)\n",
    "            else:\n",
    "                lp += -L[indvi,vn] * (ex[vn] + ex[indvi])\n",
    "        LEx[indvi] = lp\n",
    "    ex += 0.02 * LEx\n",
    "    return ex\n",
    "for i in range(20): \n",
    "    EX_max = smooth_extremalities(v, f, kmax, kdmax, EX_max)\n",
    "    EX_min = smooth_extremalities(v, f, kmin, kdmin, EX_min)\n",
    "#Extract Feature Lines after smoothing\n",
    "lines_max = remove_small_ridges(v,f,kmax,kmin,kdmax,EX_max,regular, singular, 1, 0.7)\n",
    "lines_min = remove_small_ridges(v,f,kmax,kmin,kdmin,EX_min,regular, singular, -1, 0.7)"
   ]
  },
  {
   "cell_type": "markdown",
   "metadata": {},
   "source": [
    "# Draw Feature Lines After Smooth"
   ]
  },
  {
   "cell_type": "code",
   "execution_count": 23,
   "metadata": {},
   "outputs": [
    {
     "data": {
      "application/vnd.jupyter.widget-view+json": {
       "model_id": "309fcebd439e401c8fc910e7a54868f4",
       "version_major": 2,
       "version_minor": 0
      },
      "text/plain": [
       "Renderer(camera=PerspectiveCamera(children=(DirectionalLight(color='white', intensity=0.6, position=(0.8809995…"
      ]
     },
     "metadata": {},
     "output_type": "display_data"
    },
    {
     "data": {
      "text/plain": [
       "2"
      ]
     },
     "execution_count": 23,
     "metadata": {},
     "output_type": "execute_result"
    }
   ],
   "source": [
    "p = mp.plot(v, f, c=color)\n",
    "p.add_lines(lines_max[0], lines_max[1], shading={\"line_color\": \"red\"})\n",
    "p.add_lines(lines_min[0], lines_min[1], shading={\"line_color\": \"blue\"})"
   ]
  },
  {
   "cell_type": "code",
   "execution_count": null,
   "metadata": {},
   "outputs": [],
   "source": []
  }
 ],
 "metadata": {
  "kernelspec": {
   "display_name": "Python 3 (ipykernel)",
   "language": "python",
   "name": "python3"
  },
  "language_info": {
   "codemirror_mode": {
    "name": "ipython",
    "version": 3
   },
   "file_extension": ".py",
   "mimetype": "text/x-python",
   "name": "python",
   "nbconvert_exporter": "python",
   "pygments_lexer": "ipython3",
   "version": "3.9.10"
  }
 },
 "nbformat": 4,
 "nbformat_minor": 4
}
